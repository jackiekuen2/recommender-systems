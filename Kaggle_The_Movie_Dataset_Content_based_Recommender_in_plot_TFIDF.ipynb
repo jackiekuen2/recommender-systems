{
  "nbformat": 4,
  "nbformat_minor": 0,
  "metadata": {
    "colab": {
      "name": "Kaggle The Movie Dataset - Content-based Recommender in plot TFIDF.ipynb",
      "provenance": [],
      "collapsed_sections": [],
      "machine_shape": "hm",
      "authorship_tag": "ABX9TyM5nfGpTyMphCVtAgzxBMxY",
      "include_colab_link": true
    },
    "kernelspec": {
      "name": "python3",
      "display_name": "Python 3"
    },
    "accelerator": "TPU"
  },
  "cells": [
    {
      "cell_type": "markdown",
      "metadata": {
        "id": "view-in-github",
        "colab_type": "text"
      },
      "source": [
        "<a href=\"https://colab.research.google.com/github/jackiekuen2/recommender-systems/blob/main/Kaggle_The_Movie_Dataset_Content_based_Recommender_in_plot_TFIDF.ipynb\" target=\"_parent\"><img src=\"https://colab.research.google.com/assets/colab-badge.svg\" alt=\"Open In Colab\"/></a>"
      ]
    },
    {
      "cell_type": "markdown",
      "metadata": {
        "id": "HAn_3rOcj9DQ"
      },
      "source": [
        "# Credits\n",
        "- https://medium.com/analytics-vidhya/how-to-fetch-kaggle-datasets-into-google-colab-ea682569851a\n",
        "- https://www.kaggle.com/general/74235"
      ]
    },
    {
      "cell_type": "code",
      "metadata": {
        "id": "J1wQAqfBgqfj"
      },
      "source": [
        "!pip install -q kaggle"
      ],
      "execution_count": 1,
      "outputs": []
    },
    {
      "cell_type": "code",
      "metadata": {
        "id": "mod9LufegtLK"
      },
      "source": [
        "from google.colab import files\n",
        "\n",
        "files.upload()"
      ],
      "execution_count": null,
      "outputs": []
    },
    {
      "cell_type": "code",
      "metadata": {
        "id": "7mGaEcY3g2ip",
        "outputId": "96869e9d-32b1-4b5e-87ec-102bdef19af3",
        "colab": {
          "base_uri": "https://localhost:8080/",
          "height": 34
        }
      },
      "source": [
        "!mkdir -p ~/.kaggle\n",
        "!cp kaggle.json ~/.kaggle/\n",
        "!ls ~/.kaggle\n",
        "!chmod 600 /root/.kaggle/kaggle.json"
      ],
      "execution_count": 3,
      "outputs": [
        {
          "output_type": "stream",
          "text": [
            "kaggle.json\n"
          ],
          "name": "stdout"
        }
      ]
    },
    {
      "cell_type": "code",
      "metadata": {
        "id": "zu29-0pDiobm",
        "outputId": "fc10fd5c-a15a-4f56-cac4-42bdb94b3d57",
        "colab": {
          "base_uri": "https://localhost:8080/",
          "height": 34
        }
      },
      "source": [
        "!kaggle datasets download -d rounakbanik/the-movies-dataset"
      ],
      "execution_count": 4,
      "outputs": [
        {
          "output_type": "stream",
          "text": [
            "the-movies-dataset.zip: Skipping, found more recently modified local copy (use --force to force download)\n"
          ],
          "name": "stdout"
        }
      ]
    },
    {
      "cell_type": "code",
      "metadata": {
        "id": "8HoL21ZojrNw"
      },
      "source": [
        "!unzip \\*.zip  && rm *.zip"
      ],
      "execution_count": null,
      "outputs": []
    },
    {
      "cell_type": "code",
      "metadata": {
        "id": "IcWLz4GZkPhB"
      },
      "source": [
        "import pandas as pd"
      ],
      "execution_count": 6,
      "outputs": []
    },
    {
      "cell_type": "code",
      "metadata": {
        "id": "_EIEuSQ-kXHA",
        "outputId": "9a5150be-587f-4738-a5e7-f0452f647df9",
        "colab": {
          "base_uri": "https://localhost:8080/",
          "height": 71
        }
      },
      "source": [
        "# Load movie metadata\n",
        "metadata = pd.read_csv('movies_metadata.csv')"
      ],
      "execution_count": 7,
      "outputs": [
        {
          "output_type": "stream",
          "text": [
            "/usr/local/lib/python3.6/dist-packages/IPython/core/interactiveshell.py:2718: DtypeWarning: Columns (10) have mixed types.Specify dtype option on import or set low_memory=False.\n",
            "  interactivity=interactivity, compiler=compiler, result=result)\n"
          ],
          "name": "stderr"
        }
      ]
    },
    {
      "cell_type": "code",
      "metadata": {
        "id": "1g01azNtfl5c",
        "outputId": "f9acac44-81ac-4c57-8c3b-b41112756034",
        "colab": {
          "base_uri": "https://localhost:8080/",
          "height": 615
        }
      },
      "source": [
        "# Top 5 movies by Revnue\n",
        "metadata.sort_values(by='revenue', ascending=False).head(5)"
      ],
      "execution_count": 8,
      "outputs": [
        {
          "output_type": "execute_result",
          "data": {
            "text/html": [
              "<div>\n",
              "<style scoped>\n",
              "    .dataframe tbody tr th:only-of-type {\n",
              "        vertical-align: middle;\n",
              "    }\n",
              "\n",
              "    .dataframe tbody tr th {\n",
              "        vertical-align: top;\n",
              "    }\n",
              "\n",
              "    .dataframe thead th {\n",
              "        text-align: right;\n",
              "    }\n",
              "</style>\n",
              "<table border=\"1\" class=\"dataframe\">\n",
              "  <thead>\n",
              "    <tr style=\"text-align: right;\">\n",
              "      <th></th>\n",
              "      <th>adult</th>\n",
              "      <th>belongs_to_collection</th>\n",
              "      <th>budget</th>\n",
              "      <th>genres</th>\n",
              "      <th>homepage</th>\n",
              "      <th>id</th>\n",
              "      <th>imdb_id</th>\n",
              "      <th>original_language</th>\n",
              "      <th>original_title</th>\n",
              "      <th>overview</th>\n",
              "      <th>popularity</th>\n",
              "      <th>poster_path</th>\n",
              "      <th>production_companies</th>\n",
              "      <th>production_countries</th>\n",
              "      <th>release_date</th>\n",
              "      <th>revenue</th>\n",
              "      <th>runtime</th>\n",
              "      <th>spoken_languages</th>\n",
              "      <th>status</th>\n",
              "      <th>tagline</th>\n",
              "      <th>title</th>\n",
              "      <th>video</th>\n",
              "      <th>vote_average</th>\n",
              "      <th>vote_count</th>\n",
              "    </tr>\n",
              "  </thead>\n",
              "  <tbody>\n",
              "    <tr>\n",
              "      <th>14551</th>\n",
              "      <td>False</td>\n",
              "      <td>{'id': 87096, 'name': 'Avatar Collection', 'po...</td>\n",
              "      <td>237000000</td>\n",
              "      <td>[{'id': 28, 'name': 'Action'}, {'id': 12, 'nam...</td>\n",
              "      <td>http://www.avatarmovie.com/</td>\n",
              "      <td>19995</td>\n",
              "      <td>tt0499549</td>\n",
              "      <td>en</td>\n",
              "      <td>Avatar</td>\n",
              "      <td>In the 22nd century, a paraplegic Marine is di...</td>\n",
              "      <td>185.071</td>\n",
              "      <td>/kmcqlZGaSh20zpTbuoF0Cdn07dT.jpg</td>\n",
              "      <td>[{'name': 'Ingenious Film Partners', 'id': 289...</td>\n",
              "      <td>[{'iso_3166_1': 'US', 'name': 'United States o...</td>\n",
              "      <td>2009-12-10</td>\n",
              "      <td>2.787965e+09</td>\n",
              "      <td>162.0</td>\n",
              "      <td>[{'iso_639_1': 'en', 'name': 'English'}, {'iso...</td>\n",
              "      <td>Released</td>\n",
              "      <td>Enter the World of Pandora.</td>\n",
              "      <td>Avatar</td>\n",
              "      <td>False</td>\n",
              "      <td>7.2</td>\n",
              "      <td>12114.0</td>\n",
              "    </tr>\n",
              "    <tr>\n",
              "      <th>26555</th>\n",
              "      <td>False</td>\n",
              "      <td>{'id': 10, 'name': 'Star Wars Collection', 'po...</td>\n",
              "      <td>245000000</td>\n",
              "      <td>[{'id': 28, 'name': 'Action'}, {'id': 12, 'nam...</td>\n",
              "      <td>http://www.starwars.com/films/star-wars-episod...</td>\n",
              "      <td>140607</td>\n",
              "      <td>tt2488496</td>\n",
              "      <td>en</td>\n",
              "      <td>Star Wars: The Force Awakens</td>\n",
              "      <td>Thirty years after defeating the Galactic Empi...</td>\n",
              "      <td>31.626</td>\n",
              "      <td>/weUSwMdQIa3NaXVzwUoIIcAi85d.jpg</td>\n",
              "      <td>[{'name': 'Lucasfilm', 'id': 1}, {'name': 'Tru...</td>\n",
              "      <td>[{'iso_3166_1': 'US', 'name': 'United States o...</td>\n",
              "      <td>2015-12-15</td>\n",
              "      <td>2.068224e+09</td>\n",
              "      <td>136.0</td>\n",
              "      <td>[{'iso_639_1': 'en', 'name': 'English'}]</td>\n",
              "      <td>Released</td>\n",
              "      <td>Every generation has a story.</td>\n",
              "      <td>Star Wars: The Force Awakens</td>\n",
              "      <td>False</td>\n",
              "      <td>7.5</td>\n",
              "      <td>7993.0</td>\n",
              "    </tr>\n",
              "    <tr>\n",
              "      <th>1639</th>\n",
              "      <td>False</td>\n",
              "      <td>NaN</td>\n",
              "      <td>200000000</td>\n",
              "      <td>[{'id': 18, 'name': 'Drama'}, {'id': 10749, 'n...</td>\n",
              "      <td>http://www.titanicmovie.com</td>\n",
              "      <td>597</td>\n",
              "      <td>tt0120338</td>\n",
              "      <td>en</td>\n",
              "      <td>Titanic</td>\n",
              "      <td>84 years later, a 101-year-old woman named Ros...</td>\n",
              "      <td>26.8891</td>\n",
              "      <td>/kHXEpyfl6zqn8a6YuozZUujufXf.jpg</td>\n",
              "      <td>[{'name': 'Paramount Pictures', 'id': 4}, {'na...</td>\n",
              "      <td>[{'iso_3166_1': 'US', 'name': 'United States o...</td>\n",
              "      <td>1997-11-18</td>\n",
              "      <td>1.845034e+09</td>\n",
              "      <td>194.0</td>\n",
              "      <td>[{'iso_639_1': 'en', 'name': 'English'}, {'iso...</td>\n",
              "      <td>Released</td>\n",
              "      <td>Nothing on Earth could come between them.</td>\n",
              "      <td>Titanic</td>\n",
              "      <td>False</td>\n",
              "      <td>7.5</td>\n",
              "      <td>7770.0</td>\n",
              "    </tr>\n",
              "    <tr>\n",
              "      <th>17818</th>\n",
              "      <td>False</td>\n",
              "      <td>{'id': 86311, 'name': 'The Avengers Collection...</td>\n",
              "      <td>220000000</td>\n",
              "      <td>[{'id': 878, 'name': 'Science Fiction'}, {'id'...</td>\n",
              "      <td>http://marvel.com/avengers_movie/</td>\n",
              "      <td>24428</td>\n",
              "      <td>tt0848228</td>\n",
              "      <td>en</td>\n",
              "      <td>The Avengers</td>\n",
              "      <td>When an unexpected enemy emerges and threatens...</td>\n",
              "      <td>89.8876</td>\n",
              "      <td>/cezWGskPY5x7GaglTTRN4Fugfb8.jpg</td>\n",
              "      <td>[{'name': 'Paramount Pictures', 'id': 4}, {'na...</td>\n",
              "      <td>[{'iso_3166_1': 'US', 'name': 'United States o...</td>\n",
              "      <td>2012-04-25</td>\n",
              "      <td>1.519558e+09</td>\n",
              "      <td>143.0</td>\n",
              "      <td>[{'iso_639_1': 'en', 'name': 'English'}]</td>\n",
              "      <td>Released</td>\n",
              "      <td>Some assembly required.</td>\n",
              "      <td>The Avengers</td>\n",
              "      <td>False</td>\n",
              "      <td>7.4</td>\n",
              "      <td>12000.0</td>\n",
              "    </tr>\n",
              "    <tr>\n",
              "      <th>25084</th>\n",
              "      <td>False</td>\n",
              "      <td>{'id': 328, 'name': 'Jurassic Park Collection'...</td>\n",
              "      <td>150000000</td>\n",
              "      <td>[{'id': 28, 'name': 'Action'}, {'id': 12, 'nam...</td>\n",
              "      <td>http://www.jurassicworld.com/</td>\n",
              "      <td>135397</td>\n",
              "      <td>tt0369610</td>\n",
              "      <td>en</td>\n",
              "      <td>Jurassic World</td>\n",
              "      <td>Twenty-two years after the events of Jurassic ...</td>\n",
              "      <td>32.7905</td>\n",
              "      <td>/jjBgi2r5cRt36xF6iNUEhzscEcb.jpg</td>\n",
              "      <td>[{'name': 'Universal Studios', 'id': 13}, {'na...</td>\n",
              "      <td>[{'iso_3166_1': 'US', 'name': 'United States o...</td>\n",
              "      <td>2015-06-09</td>\n",
              "      <td>1.513529e+09</td>\n",
              "      <td>124.0</td>\n",
              "      <td>[{'iso_639_1': 'en', 'name': 'English'}]</td>\n",
              "      <td>Released</td>\n",
              "      <td>The park is open.</td>\n",
              "      <td>Jurassic World</td>\n",
              "      <td>False</td>\n",
              "      <td>6.5</td>\n",
              "      <td>8842.0</td>\n",
              "    </tr>\n",
              "  </tbody>\n",
              "</table>\n",
              "</div>"
            ],
            "text/plain": [
              "       adult  ... vote_count\n",
              "14551  False  ...    12114.0\n",
              "26555  False  ...     7993.0\n",
              "1639   False  ...     7770.0\n",
              "17818  False  ...    12000.0\n",
              "25084  False  ...     8842.0\n",
              "\n",
              "[5 rows x 24 columns]"
            ]
          },
          "metadata": {
            "tags": []
          },
          "execution_count": 8
        }
      ]
    },
    {
      "cell_type": "code",
      "metadata": {
        "id": "anzgMEbkW1vz",
        "outputId": "6e10b39a-f047-4514-b5e9-8d3e69abbcdf",
        "colab": {
          "base_uri": "https://localhost:8080/",
          "height": 119
        }
      },
      "source": [
        "metadata['overview'].head()"
      ],
      "execution_count": 9,
      "outputs": [
        {
          "output_type": "execute_result",
          "data": {
            "text/plain": [
              "0    Led by Woody, Andy's toys live happily in his ...\n",
              "1    When siblings Judy and Peter discover an encha...\n",
              "2    A family wedding reignites the ancient feud be...\n",
              "3    Cheated on, mistreated and stepped on, the wom...\n",
              "4    Just when George Banks has recovered from his ...\n",
              "Name: overview, dtype: object"
            ]
          },
          "metadata": {
            "tags": []
          },
          "execution_count": 9
        }
      ]
    },
    {
      "cell_type": "markdown",
      "metadata": {
        "id": "lO-e9ElpWVll"
      },
      "source": [
        "# II. Content-based Recommender in plot description\n",
        "- Using plot description --> metadata['overview']\n",
        "- compute pairwise cosine similarity scores for all movies based on their plot descriptions --> NLP problem\n",
        "- to compute the word vectors of each overview or document --> This will give you a matrix where each column represents a word in the overview vocabulary (all the words that appear in at least one document), and each column represents a movie\n",
        "- Cleasning before vectorization: \n",
        "    - Remove stop words like 'the', 'an', etc. since they do not give any useful information about the topic;\n",
        "    - Replace not-a-number values with a blank string;"
      ]
    },
    {
      "cell_type": "markdown",
      "metadata": {
        "id": "pXpbXjI4eryu"
      },
      "source": [
        "## TF-IDF Vectorizer\n",
        "- down-weighted by the number of documents in which it occurs. This is done to reduce the importance of words that frequently occur in plot overviews"
      ]
    },
    {
      "cell_type": "code",
      "metadata": {
        "id": "OJL-8yLSkZhq"
      },
      "source": [
        "from sklearn.feature_extraction.text import TfidfVectorizer"
      ],
      "execution_count": 10,
      "outputs": []
    },
    {
      "cell_type": "code",
      "metadata": {
        "id": "WuwduLsskjqG"
      },
      "source": [
        "tfidf = TfidfVectorizer(stop_words='english')\n",
        "\n",
        "# Fill Nan with empty\n",
        "metadata['overview'] = metadata['overview'].fillna('')\n",
        "tfidf_matrix = tfidf.fit_transform(metadata['overview'])"
      ],
      "execution_count": 11,
      "outputs": []
    },
    {
      "cell_type": "code",
      "metadata": {
        "id": "xSpyIDNpkmKu",
        "outputId": "e8292dcb-262b-41c4-8e93-98adbb34149c",
        "colab": {
          "base_uri": "https://localhost:8080/",
          "height": 34
        }
      },
      "source": [
        "tfidf_matrix.shape"
      ],
      "execution_count": 12,
      "outputs": [
        {
          "output_type": "execute_result",
          "data": {
            "text/plain": [
              "(45466, 75827)"
            ]
          },
          "metadata": {
            "tags": []
          },
          "execution_count": 12
        }
      ]
    },
    {
      "cell_type": "code",
      "metadata": {
        "id": "zCSNu7BWkox_",
        "outputId": "4e650cb2-7d5b-4644-92a9-1afe012288a5",
        "colab": {
          "base_uri": "https://localhost:8080/",
          "height": 187
        }
      },
      "source": [
        "# List some feature names\n",
        "tfidf.get_feature_names()[5000:5010]"
      ],
      "execution_count": 13,
      "outputs": [
        {
          "output_type": "execute_result",
          "data": {
            "text/plain": [
              "['avails',\n",
              " 'avaks',\n",
              " 'avalanche',\n",
              " 'avalanches',\n",
              " 'avallone',\n",
              " 'avalon',\n",
              " 'avant',\n",
              " 'avanthika',\n",
              " 'avanti',\n",
              " 'avaracious']"
            ]
          },
          "metadata": {
            "tags": []
          },
          "execution_count": 13
        }
      ]
    },
    {
      "cell_type": "markdown",
      "metadata": {
        "id": "-ndE3gOCXrCf"
      },
      "source": [
        "## Cosine Similarity using linear kernel\n",
        "- Since you have used the TF-IDF vectorizer, calculating the dot product between each vector will directly give you the cosine similarity score. Therefore, you will use sklearn's linear_kernel() instead of cosine_similarities() since it is faster.\n",
        "- This would return a matrix of shape 45466x45466, which means each movie overview cosine similarity score with every other movie overview. "
      ]
    },
    {
      "cell_type": "code",
      "metadata": {
        "id": "UwpP-cLykrEN"
      },
      "source": [
        "from sklearn.metrics.pairwise import linear_kernel\n",
        "\n",
        "# Compute the consine similarity matrix, by calculating the dot product of TF-IDF matrix\n",
        "cosine_sim = linear_kernel(tfidf_matrix, tfidf_matrix)"
      ],
      "execution_count": 14,
      "outputs": []
    },
    {
      "cell_type": "code",
      "metadata": {
        "id": "5T5Tm7C9ktPe",
        "outputId": "e298af66-a141-4d1a-9e4c-372daff51021",
        "colab": {
          "base_uri": "https://localhost:8080/",
          "height": 34
        }
      },
      "source": [
        "cosine_sim.shape"
      ],
      "execution_count": 15,
      "outputs": [
        {
          "output_type": "execute_result",
          "data": {
            "text/plain": [
              "(45466, 45466)"
            ]
          },
          "metadata": {
            "tags": []
          },
          "execution_count": 15
        }
      ]
    },
    {
      "cell_type": "code",
      "metadata": {
        "id": "PmYtU4yTk7fD",
        "outputId": "692474bd-4220-45b6-b6b9-fdb5f3ae3653",
        "colab": {
          "base_uri": "https://localhost:8080/",
          "height": 51
        }
      },
      "source": [
        "cosine_sim[1]"
      ],
      "execution_count": 16,
      "outputs": [
        {
          "output_type": "execute_result",
          "data": {
            "text/plain": [
              "array([0.01504121, 1.        , 0.04681953, ..., 0.        , 0.02198641,\n",
              "       0.00929411])"
            ]
          },
          "metadata": {
            "tags": []
          },
          "execution_count": 16
        }
      ]
    },
    {
      "cell_type": "markdown",
      "metadata": {
        "id": "upVXdTIrYC15"
      },
      "source": [
        "## Top 10 most similar movies"
      ]
    },
    {
      "cell_type": "code",
      "metadata": {
        "id": "12a_yQ8UlP4v"
      },
      "source": [
        " # Assigne indices to movive title\n",
        "indices = pd.Series(metadata.index, index=metadata['title']).drop_duplicates()"
      ],
      "execution_count": 17,
      "outputs": []
    },
    {
      "cell_type": "code",
      "metadata": {
        "id": "6Njo-eqlZgFN",
        "outputId": "059ac0c4-4b85-4431-d9f6-44ffd40f2eee",
        "colab": {
          "base_uri": "https://localhost:8080/",
          "height": 221
        }
      },
      "source": [
        "indices[:10]"
      ],
      "execution_count": 18,
      "outputs": [
        {
          "output_type": "execute_result",
          "data": {
            "text/plain": [
              "title\n",
              "Toy Story                      0\n",
              "Jumanji                        1\n",
              "Grumpier Old Men               2\n",
              "Waiting to Exhale              3\n",
              "Father of the Bride Part II    4\n",
              "Heat                           5\n",
              "Sabrina                        6\n",
              "Tom and Huck                   7\n",
              "Sudden Death                   8\n",
              "GoldenEye                      9\n",
              "dtype: int64"
            ]
          },
          "metadata": {
            "tags": []
          },
          "execution_count": 18
        }
      ]
    },
    {
      "cell_type": "code",
      "metadata": {
        "id": "sZUwEw4TZhH9"
      },
      "source": [
        "# top 10 movies with similar descriptions\n",
        "def get_recommendations(title, cosine_sim, topk=10):\n",
        "    # Get the index of target movie\n",
        "    idx = indices[title]\n",
        "    # Get pairwise similariy scores of all movies that are similar to target movie\n",
        "    sim_scores = list(enumerate(cosine_sim[idx]))\n",
        "    # Reversed-Sort the sim scores\n",
        "    sim_scores = sorted(sim_scores, key=lambda x:x[1], reverse=True)\n",
        "    # Get the top k, except the first one (the movie itself)\n",
        "    sim_scores = sim_scores[1:topk]\n",
        "    movie_indices = [i[0] for i in sim_scores]\n",
        "    # return pd.DataFrame(metadata['title'].iloc[movie_indices])\n",
        "    rec_results = pd.DataFrame(metadata['title'].iloc[movie_indices])\n",
        "    rec_results['sim_scores'] = [i[1] for i in sim_scores]\n",
        "    return rec_results"
      ],
      "execution_count": 19,
      "outputs": []
    },
    {
      "cell_type": "code",
      "metadata": {
        "id": "XVrL7eR1b1_y",
        "outputId": "1cf7f9f8-415e-41cd-b3b2-151b783999d6",
        "colab": {
          "base_uri": "https://localhost:8080/",
          "height": 328
        }
      },
      "source": [
        "get_recommendations('Jurassic World', cosine_sim)"
      ],
      "execution_count": 21,
      "outputs": [
        {
          "output_type": "execute_result",
          "data": {
            "text/html": [
              "<div>\n",
              "<style scoped>\n",
              "    .dataframe tbody tr th:only-of-type {\n",
              "        vertical-align: middle;\n",
              "    }\n",
              "\n",
              "    .dataframe tbody tr th {\n",
              "        vertical-align: top;\n",
              "    }\n",
              "\n",
              "    .dataframe thead th {\n",
              "        text-align: right;\n",
              "    }\n",
              "</style>\n",
              "<table border=\"1\" class=\"dataframe\">\n",
              "  <thead>\n",
              "    <tr style=\"text-align: right;\">\n",
              "      <th></th>\n",
              "      <th>title</th>\n",
              "      <th>sim_scores</th>\n",
              "    </tr>\n",
              "  </thead>\n",
              "  <tbody>\n",
              "    <tr>\n",
              "      <th>1474</th>\n",
              "      <td>The Lost World: Jurassic Park</td>\n",
              "      <td>0.247255</td>\n",
              "    </tr>\n",
              "    <tr>\n",
              "      <th>13961</th>\n",
              "      <td>Dark Ride</td>\n",
              "      <td>0.195840</td>\n",
              "    </tr>\n",
              "    <tr>\n",
              "      <th>475</th>\n",
              "      <td>Jurassic Park</td>\n",
              "      <td>0.181525</td>\n",
              "    </tr>\n",
              "    <tr>\n",
              "      <th>30975</th>\n",
              "      <td>Jurassic City</td>\n",
              "      <td>0.170766</td>\n",
              "    </tr>\n",
              "    <tr>\n",
              "      <th>8757</th>\n",
              "      <td>Futureworld</td>\n",
              "      <td>0.169373</td>\n",
              "    </tr>\n",
              "    <tr>\n",
              "      <th>30718</th>\n",
              "      <td>It Waits</td>\n",
              "      <td>0.165788</td>\n",
              "    </tr>\n",
              "    <tr>\n",
              "      <th>24186</th>\n",
              "      <td>Trailer Park Boys: Don't Legalize It</td>\n",
              "      <td>0.156942</td>\n",
              "    </tr>\n",
              "    <tr>\n",
              "      <th>11644</th>\n",
              "      <td>The Grim Reaper</td>\n",
              "      <td>0.154276</td>\n",
              "    </tr>\n",
              "    <tr>\n",
              "      <th>31263</th>\n",
              "      <td>Tom and Jerry's Giant Adventure</td>\n",
              "      <td>0.152503</td>\n",
              "    </tr>\n",
              "  </tbody>\n",
              "</table>\n",
              "</div>"
            ],
            "text/plain": [
              "                                      title  sim_scores\n",
              "1474          The Lost World: Jurassic Park    0.247255\n",
              "13961                             Dark Ride    0.195840\n",
              "475                           Jurassic Park    0.181525\n",
              "30975                         Jurassic City    0.170766\n",
              "8757                            Futureworld    0.169373\n",
              "30718                              It Waits    0.165788\n",
              "24186  Trailer Park Boys: Don't Legalize It    0.156942\n",
              "11644                       The Grim Reaper    0.154276\n",
              "31263       Tom and Jerry's Giant Adventure    0.152503"
            ]
          },
          "metadata": {
            "tags": []
          },
          "execution_count": 21
        }
      ]
    },
    {
      "cell_type": "code",
      "metadata": {
        "id": "RyHy5CGs0CED",
        "outputId": "8e770827-6deb-4dcc-80ad-90cb042de7c2",
        "colab": {
          "base_uri": "https://localhost:8080/",
          "height": 328
        }
      },
      "source": [
        "get_recommendations('The Dark Knight Rises', cosine_sim)"
      ],
      "execution_count": 22,
      "outputs": [
        {
          "output_type": "execute_result",
          "data": {
            "text/html": [
              "<div>\n",
              "<style scoped>\n",
              "    .dataframe tbody tr th:only-of-type {\n",
              "        vertical-align: middle;\n",
              "    }\n",
              "\n",
              "    .dataframe tbody tr th {\n",
              "        vertical-align: top;\n",
              "    }\n",
              "\n",
              "    .dataframe thead th {\n",
              "        text-align: right;\n",
              "    }\n",
              "</style>\n",
              "<table border=\"1\" class=\"dataframe\">\n",
              "  <thead>\n",
              "    <tr style=\"text-align: right;\">\n",
              "      <th></th>\n",
              "      <th>title</th>\n",
              "      <th>sim_scores</th>\n",
              "    </tr>\n",
              "  </thead>\n",
              "  <tbody>\n",
              "    <tr>\n",
              "      <th>12481</th>\n",
              "      <td>The Dark Knight</td>\n",
              "      <td>0.326639</td>\n",
              "    </tr>\n",
              "    <tr>\n",
              "      <th>150</th>\n",
              "      <td>Batman Forever</td>\n",
              "      <td>0.316211</td>\n",
              "    </tr>\n",
              "    <tr>\n",
              "      <th>1328</th>\n",
              "      <td>Batman Returns</td>\n",
              "      <td>0.296139</td>\n",
              "    </tr>\n",
              "    <tr>\n",
              "      <th>15511</th>\n",
              "      <td>Batman: Under the Red Hood</td>\n",
              "      <td>0.287983</td>\n",
              "    </tr>\n",
              "    <tr>\n",
              "      <th>585</th>\n",
              "      <td>Batman</td>\n",
              "      <td>0.270730</td>\n",
              "    </tr>\n",
              "    <tr>\n",
              "      <th>21194</th>\n",
              "      <td>Batman Unmasked: The Psychology of the Dark Kn...</td>\n",
              "      <td>0.253149</td>\n",
              "    </tr>\n",
              "    <tr>\n",
              "      <th>9230</th>\n",
              "      <td>Batman Beyond: Return of the Joker</td>\n",
              "      <td>0.234360</td>\n",
              "    </tr>\n",
              "    <tr>\n",
              "      <th>18035</th>\n",
              "      <td>Batman: Year One</td>\n",
              "      <td>0.204338</td>\n",
              "    </tr>\n",
              "    <tr>\n",
              "      <th>19792</th>\n",
              "      <td>Batman: The Dark Knight Returns, Part 1</td>\n",
              "      <td>0.198813</td>\n",
              "    </tr>\n",
              "  </tbody>\n",
              "</table>\n",
              "</div>"
            ],
            "text/plain": [
              "                                                   title  sim_scores\n",
              "12481                                    The Dark Knight    0.326639\n",
              "150                                       Batman Forever    0.316211\n",
              "1328                                      Batman Returns    0.296139\n",
              "15511                         Batman: Under the Red Hood    0.287983\n",
              "585                                               Batman    0.270730\n",
              "21194  Batman Unmasked: The Psychology of the Dark Kn...    0.253149\n",
              "9230                  Batman Beyond: Return of the Joker    0.234360\n",
              "18035                                   Batman: Year One    0.204338\n",
              "19792            Batman: The Dark Knight Returns, Part 1    0.198813"
            ]
          },
          "metadata": {
            "tags": []
          },
          "execution_count": 22
        }
      ]
    },
    {
      "cell_type": "code",
      "metadata": {
        "id": "8d3V7KRA0IRD",
        "outputId": "a27dacfe-c003-4e1a-b82b-47cd793e85fb",
        "colab": {
          "base_uri": "https://localhost:8080/",
          "height": 328
        }
      },
      "source": [
        "get_recommendations('The Godfather', cosine_sim)"
      ],
      "execution_count": 23,
      "outputs": [
        {
          "output_type": "execute_result",
          "data": {
            "text/html": [
              "<div>\n",
              "<style scoped>\n",
              "    .dataframe tbody tr th:only-of-type {\n",
              "        vertical-align: middle;\n",
              "    }\n",
              "\n",
              "    .dataframe tbody tr th {\n",
              "        vertical-align: top;\n",
              "    }\n",
              "\n",
              "    .dataframe thead th {\n",
              "        text-align: right;\n",
              "    }\n",
              "</style>\n",
              "<table border=\"1\" class=\"dataframe\">\n",
              "  <thead>\n",
              "    <tr style=\"text-align: right;\">\n",
              "      <th></th>\n",
              "      <th>title</th>\n",
              "      <th>sim_scores</th>\n",
              "    </tr>\n",
              "  </thead>\n",
              "  <tbody>\n",
              "    <tr>\n",
              "      <th>1178</th>\n",
              "      <td>The Godfather: Part II</td>\n",
              "      <td>0.475954</td>\n",
              "    </tr>\n",
              "    <tr>\n",
              "      <th>44030</th>\n",
              "      <td>The Godfather Trilogy: 1972-1990</td>\n",
              "      <td>0.356142</td>\n",
              "    </tr>\n",
              "    <tr>\n",
              "      <th>1914</th>\n",
              "      <td>The Godfather: Part III</td>\n",
              "      <td>0.183049</td>\n",
              "    </tr>\n",
              "    <tr>\n",
              "      <th>23126</th>\n",
              "      <td>Blood Ties</td>\n",
              "      <td>0.153702</td>\n",
              "    </tr>\n",
              "    <tr>\n",
              "      <th>11297</th>\n",
              "      <td>Household Saints</td>\n",
              "      <td>0.140767</td>\n",
              "    </tr>\n",
              "    <tr>\n",
              "      <th>34717</th>\n",
              "      <td>Start Liquidation</td>\n",
              "      <td>0.134386</td>\n",
              "    </tr>\n",
              "    <tr>\n",
              "      <th>10821</th>\n",
              "      <td>Election</td>\n",
              "      <td>0.132326</td>\n",
              "    </tr>\n",
              "    <tr>\n",
              "      <th>38030</th>\n",
              "      <td>A Mother Should Be Loved</td>\n",
              "      <td>0.130311</td>\n",
              "    </tr>\n",
              "    <tr>\n",
              "      <th>17729</th>\n",
              "      <td>Short Sharp Shock</td>\n",
              "      <td>0.129697</td>\n",
              "    </tr>\n",
              "  </tbody>\n",
              "</table>\n",
              "</div>"
            ],
            "text/plain": [
              "                                  title  sim_scores\n",
              "1178             The Godfather: Part II    0.475954\n",
              "44030  The Godfather Trilogy: 1972-1990    0.356142\n",
              "1914            The Godfather: Part III    0.183049\n",
              "23126                        Blood Ties    0.153702\n",
              "11297                  Household Saints    0.140767\n",
              "34717                 Start Liquidation    0.134386\n",
              "10821                          Election    0.132326\n",
              "38030          A Mother Should Be Loved    0.130311\n",
              "17729                 Short Sharp Shock    0.129697"
            ]
          },
          "metadata": {
            "tags": []
          },
          "execution_count": 23
        }
      ]
    }
  ]
}